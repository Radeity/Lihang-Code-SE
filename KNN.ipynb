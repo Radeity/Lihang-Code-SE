{
 "cells": [
  {
   "cell_type": "code",
   "execution_count": 63,
   "id": "3b8ec490-f0e0-49be-b4a1-c5f3c58fcf08",
   "metadata": {},
   "outputs": [],
   "source": [
    "import numpy as np\n",
    "import matplotlib.pyplot as plt\n",
    "from sklearn.datasets import load_iris\n",
    "import math\n",
    "\n",
    "# 在console内直接生成图像\n",
    "%matplotlib inline "
   ]
  },
  {
   "cell_type": "code",
   "execution_count": 64,
   "id": "a53cd044-db89-4fcf-9736-910e3c5aec56",
   "metadata": {},
   "outputs": [],
   "source": [
    "data, target = load_iris(return_X_y=True, as_frame=True)\n",
    "column = np.array(data.columns)"
   ]
  },
  {
   "cell_type": "code",
   "execution_count": 65,
   "id": "3f4ec66b-4a0b-419f-bf79-711a39bae9b0",
   "metadata": {},
   "outputs": [
    {
     "data": {
      "text/plain": [
       "<matplotlib.legend.Legend at 0x7ff7bc58af90>"
      ]
     },
     "execution_count": 65,
     "metadata": {},
     "output_type": "execute_result"
    },
    {
     "data": {
      "image/png": "[encoded data removed]",
      "text/plain": [
       "<Figure size 432x288 with 1 Axes>"
      ]
     },
     "metadata": {
      "needs_background": "light"
     },
     "output_type": "display_data"
    }
   ],
   "source": [
    "# ax = plt.axes(projection='3d')\n",
    "# ax.scatter3D(data[:50][column[0]], data[:50][column[1]], data[:50][column[2]],label='0')\n",
    "# ax.scatter3D(data[50:100][column[0]], data[50:100][column[1]], data[50:100][column[2]],label='1')\n",
    "# ax.xlabel(column[0])\n",
    "# ax.ylabel(column[1])\n",
    "# ax.zlabel(column[2])\n",
    "\n",
    "# ax.legend()\n",
    "plt.scatter(data[:50][column[2]], data[:50][column[3]], label = '0')\n",
    "plt.scatter(data[50:100][column[2]], data[50:100][column[3]], label = '1')\n",
    "plt.scatter(data[100:150][column[2]], data[100:150][column[3]], label = '2')\n",
    "plt.legend()"
   ]
  },
  {
   "cell_type": "code",
   "execution_count": 66,
   "id": "71421982-63c5-4d82-b537-1860599db8e2",
   "metadata": {},
   "outputs": [],
   "source": [
    "data = data.values"
   ]
  },
  {
   "cell_type": "code",
   "execution_count": 67,
   "id": "47d074e7-061c-4805-9cfb-35ae8951fa88",
   "metadata": {},
   "outputs": [],
   "source": [
    "def distance(x, y, p=2):\n",
    "    if len(x) == len(y) and len(x) > 1:\n",
    "        sum = 0\n",
    "        for i in range(len(x)):\n",
    "            sum += math.pow(abs(x[i] - y[i]), p)\n",
    "        return math.pow(sum, 1 / p)\n",
    "    else:\n",
    "        return 0"
   ]
  },
  {
   "cell_type": "code",
   "execution_count": 68,
   "id": "16b0608f-f421-4a40-8c1a-99451b750043",
   "metadata": {},
   "outputs": [],
   "source": [
    "class KNN:\n",
    "    def __init__(self, k, p, x_train, y_train):\n",
    "        self.k = k\n",
    "        self.p = p\n",
    "        self.x_train = x_train\n",
    "        self.y_train = y_train\n",
    "            \n",
    "    def predict(self, x_test):\n",
    "        knn_list = []\n",
    "        \n",
    "        # 先将list装满k个元素\n",
    "        for i in range(self.k):\n",
    "            knn_list.append((distance(self.x_train[i], x_test, self.p), self.y_train[i]))\n",
    "        \n",
    "        for i in range(self.k, self.x_train.shape[0]):\n",
    "            max_index = knn_list.index(max(knn_list, key=lambda x: x[0]))\n",
    "            dis = distance(self.x_train[i], x_test, self.p)\n",
    "            if dis < knn_list[max_index][0]:\n",
    "                knn_list[max_index] = (dis, self.y_train[i])\n",
    "        \n",
    "        # dict_class {类别 : 类别出现次数}\n",
    "        dict_class = {}\n",
    "#         max_cnt = 0\n",
    "        for i in range(self.k):\n",
    "            if dict_class.get(knn_list[i][1]) != None:\n",
    "                dict_class[knn_list[i][1]] += 1\n",
    "            else:\n",
    "                dict_class[knn_list[i][1]] = 1\n",
    "#             max_cnt = max(max_cnt, dict_class[knn_list[i][1]])\n",
    "        \n",
    "        # 返回value最大的key\n",
    "        return max(dict_class.items(), key=lambda x: x[1])[0]\n",
    "        \n",
    "    def score(self, x_test, y_test):\n",
    "        correct_count = 0\n",
    "        for i in range(len(x_test)):\n",
    "            if self.predict(x_test[i]) == y_test[i]:\n",
    "                correct_count += 1\n",
    "        return correct_count / len(x_test)"
   ]
  },
  {
   "cell_type": "code",
   "execution_count": 69,
   "id": "e1ba9f39-c2c6-4de5-b51c-2c9e9a0505df",
   "metadata": {},
   "outputs": [
    {
     "name": "stdout",
     "output_type": "stream",
     "text": [
      "2\n"
     ]
    }
   ],
   "source": [
    "# print(data.shape)\n",
    "model = KNN(3, 2, data[:,2:], target)\n",
    "test_point = []\n",
    "test_point.append((6,2))\n",
    "print(model.predict(test_point[0]))"
   ]
  },
  {
   "cell_type": "code",
   "execution_count": 73,
   "id": "41e0c8db-6bdd-45fb-a46d-bc0879694aa9",
   "metadata": {},
   "outputs": [
    {
     "data": {
      "text/plain": [
       "<matplotlib.legend.Legend at 0x7ff7bd24ff50>"
      ]
     },
     "execution_count": 73,
     "metadata": {},
     "output_type": "execute_result"
    },
    {
     "data": {
      "image/png": "[encoded data removed]",
      "text/plain": [
       "<Figure size 432x288 with 1 Axes>"
      ]
     },
     "metadata": {
      "needs_background": "light"
     },
     "output_type": "display_data"
    }
   ],
   "source": [
    "plt.scatter(data[:50][:,2], data[:50][:,3], label = '0')\n",
    "plt.scatter(data[50:100][:,2], data[50:100][:,3], label = '1')\n",
    "plt.scatter(data[100:150][:,2], data[100:150][:,3], label = '2')\n",
    "plt.plot(test_point[0][0], test_point[0][1], 'bo', label='test_point')\n",
    "plt.xlabel(column[2])\n",
    "plt.ylabel(column[3])\n",
    "plt.legend()"
   ]
  },
  {
   "cell_type": "markdown",
   "id": "1edfffad-86e4-4a96-81da-7d04190ed58f",
   "metadata": {},
   "source": [
    "### KD树实现"
   ]
  },
  {
   "cell_type": "code",
   "execution_count": 152,
   "id": "c9e2facf-b641-40fc-bde8-4563adad243c",
   "metadata": {},
   "outputs": [],
   "source": [
    "class KD_Node:  # KD树中结点\n",
    "    def __init__(self, node, split_dim, left, right, visit):\n",
    "        self.node = node  # k维向量空间结点\n",
    "        self.split_dim = split_dim  # 分割维度\n",
    "        self.left = left  # 左孩子\n",
    "        self.right = right  # 右孩子\n",
    "        self.visit = visit  # 访问标记位\n",
    "        \n",
    "class KD_Tree:  # KD树\n",
    "    def __init__(self, data):\n",
    "        k = len(data[0])  # 数据维度\n",
    "        \n",
    "        def Create_Tree(split_dim, data):\n",
    "            if len(data) == 0:\n",
    "                return None\n",
    "            data.sort(key = lambda x: x[split_dim])  # 首先在当前维度对数据点进行排序\n",
    "            split_pos = len(data) // 2  # 取中间点进行分割\n",
    "            mid_node = data[split_pos]\n",
    "            split_next_dim = (split_dim + 1) % len(data[0])  # 计算下一分割维度（加一取模）\n",
    "            \n",
    "            # 递归的创建kd树\n",
    "            return KD_Node(mid_node, \n",
    "                           split_dim, \n",
    "                           Create_Tree(split_next_dim, data[:split_pos]),  # split_pos左面的数据创建左子树\n",
    "                           Create_Tree(split_next_dim, data[split_pos+1:]),  # split_pos右面的数据创建右子树\n",
    "                           0)\n",
    "        \n",
    "        self.root = Create_Tree(0, data)\n",
    "        \n",
    "    # 前序遍历\n",
    "    def Preorder_Traverse(self, node):\n",
    "        if node is None:\n",
    "            return\n",
    "        print(node.node)\n",
    "        self.Preorder_Traverse(node.left)\n",
    "        self.Preorder_Traverse(node.right)\n",
    "        "
   ]
  },
  {
   "cell_type": "code",
   "execution_count": 164,
   "id": "8296a054-1f40-4b86-8e6e-e31f4536fa02",
   "metadata": {},
   "outputs": [],
   "source": [
    "# 对目标点进行KD树的k近邻搜索\n",
    "def Search_KDTree(tree, point, k):\n",
    "    k_res = []\n",
    "    \n",
    "    def Find_Leaf(tree_node, point, k, k_res):  # 找出包含目标点的叶子结点\n",
    "        if tree_node == None:  # 当前结点为空则直接返回\n",
    "            return\n",
    "#         print(tree_node.visit)\n",
    "        if tree_node.visit == 1 or (tree_node.left == None and tree_node.right == None):  # 判断当前结点是否为叶子结点\n",
    "            eur_dis = distance(point, tree_node.node, 2)  # 目标点和叶子结点间欧式距离\n",
    "            # 判断当前叶子结点是否加入列表中\n",
    "            if len(k_res) < k :  # 列表里不足k各元素则直接加入列表中\n",
    "                k_res.append((tree_node.node, eur_dis))  # 列表中元素为（结点，与目标结点欧式距离）\n",
    "#                 print(tree_node.node)\n",
    "                k_res.sort(key = lambda x: x[1])  # 对列表中结点与目标结点欧式距离进行排序\n",
    "            else:\n",
    "                if eur_dis < k_res[-1][1]:  # 比较当前欧式距离和列表中最后一项的欧式距离（列表中的最大距离）\n",
    "                    k_res[-1] = ((tree_node.node, eur_dis))  # 更新列表中最后一项\n",
    "                    k_res.sort(key = lambda x: x[1])\n",
    "            return\n",
    "       \n",
    "        dim = tree_node.split_dim  # 获取该结点的切分维度\n",
    "        if point[dim] < tree_node.node[dim]:  # 若目标点在当前维坐标小于切分点坐标，向左孩子遍历\n",
    "            Find_Leaf(tree_node.left, point, k, k_res)  # 找到的叶子结点\n",
    "            other_side = tree_node.right  # 记录另外一侧子树\n",
    "        else:                            # 若目标点在当前维坐标大于切分点坐标，向右孩子遍历\n",
    "            Find_Leaf(tree_node.right, point, k, k_res)  \n",
    "            other_side = tree_node.left\n",
    "#             print(other_side.node)    \n",
    "                \n",
    "        '''cur_dis = distance(point, tree_node.node, 2)  # 目标点与切分点的距离\n",
    "        if len(k_res) < k :  # 判断当前切分点是否加入列表中\n",
    "            k_res.append((tree_node.node, cur_dis))\n",
    "            k_res.sort(key = lambda x: x[1])\n",
    "        else:\n",
    "            if cur_dis < k_res[-1][1]: \n",
    "                k_res[-1] = ((tree_node.node, cur_dis))\n",
    "                k_res.sort(key = lambda x: x[1])\n",
    "        '''\n",
    "        tree_node.visit = 1\n",
    "        Find_Leaf(tree_node, point, k, k_res)\n",
    "        split_dis = abs(tree_node.node[dim] - point[dim])  # 目标点与分割线的距离\n",
    "        if len(k_res) < k or split_dis < k_res[-1][1]:  # 若不足k个元素或与分割线距离小于列表中最远距离\n",
    "            Find_Leaf(other_side, point, k, k_res)\n",
    "        \n",
    "    Find_Leaf(tree.root, point, k, k_res)\n",
    "    return k_res \n"
   ]
  },
  {
   "cell_type": "code",
   "execution_count": 168,
   "id": "cbe7df65-0d59-4077-99fe-1c08d75082e5",
   "metadata": {},
   "outputs": [
    {
     "name": "stderr",
     "output_type": "stream",
     "text": [
      "No handles with labels found to put in legend.\n"
     ]
    },
    {
     "name": "stdout",
     "output_type": "stream",
     "text": [
      "[7, 2]\n",
      "[5, 4]\n",
      "[2, 3]\n",
      "[4, 7]\n",
      "[9, 6]\n",
      "[8, 1]\n"
     ]
    },
    {
     "data": {
      "text/plain": [
       "<matplotlib.legend.Legend at 0x7ff7bdbaa590>"
      ]
     },
     "execution_count": 168,
     "metadata": {},
     "output_type": "execute_result"
    },
    {
     "data": {
      "image/png": "[encoded data removed]",
      "text/plain": [
       "<Figure size 432x288 with 1 Axes>"
      ]
     },
     "metadata": {
      "needs_background": "light"
     },
     "output_type": "display_data"
    }
   ],
   "source": [
    "data = [[2,3],[5,4],[9,6],[4,7],[8,1],[7,2]]\n",
    "kd = KD_Tree(data)\n",
    "kd.Preorder_Traverse(kd.root)\n",
    "plt.scatter([i[0] for i in data], [i[1] for i in data])\n",
    "plt.xlabel('x')\n",
    "plt.ylabel('y')\n",
    "plt.legend()"
   ]
  },
  {
   "cell_type": "code",
   "execution_count": 169,
   "id": "266c5b9f-5e60-407e-b5fc-8111ee2f26a8",
   "metadata": {},
   "outputs": [
    {
     "name": "stdout",
     "output_type": "stream",
     "text": [
      "([2, 3], 1.8027756377319946)\n",
      "([5, 4], 2.0615528128088303)\n",
      "([4, 7], 2.692582403567252)\n"
     ]
    },
    {
     "data": {
      "image/png": "[encoded data removed]",
      "text/plain": [
       "<Figure size 432x288 with 1 Axes>"
      ]
     },
     "metadata": {
      "needs_background": "light"
     },
     "output_type": "display_data"
    }
   ],
   "source": [
    "test_point = (3, 4.5)\n",
    "k_near = Search_KDTree(kd, test_point, 3)\n",
    "plt.scatter([i[0] for i in data], [i[1] for i in data], label = 'train_point')\n",
    "plt.plot(test_point[0], test_point[1], 'bo',  label = 'test_point')\n",
    "\n",
    "plt.xlabel('x')\n",
    "plt.ylabel('y')\n",
    "plt.legend()\n",
    "print(*k_near, sep='\\n')  # 输出列表中所有元素，每个元素间用换行分隔"
   ]
  },
  {
   "cell_type": "code",
   "execution_count": null,
   "id": "ad800acc-e477-423d-945f-e719be40fbbc",
   "metadata": {},
   "outputs": [],
   "source": []
  }
 ],
 "metadata": {
  "kernelspec": {
   "display_name": "Python 3",
   "language": "python",
   "name": "python3"
  },
  "language_info": {
   "codemirror_mode": {
    "name": "ipython",
    "version": 3
   },
   "file_extension": ".py",
   "mimetype": "text/x-python",
   "name": "python",
   "nbconvert_exporter": "python",
   "pygments_lexer": "ipython3",
   "version": "3.7.9"
  }
 },
 "nbformat": 4,
 "nbformat_minor": 5
}
