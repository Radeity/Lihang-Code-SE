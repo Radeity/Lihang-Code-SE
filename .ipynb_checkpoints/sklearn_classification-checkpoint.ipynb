{
 "cells": [
  {
   "cell_type": "code",
   "execution_count": 1,
   "id": "0a341da2-683d-4523-a4cc-8a1263a57d64",
   "metadata": {},
   "outputs": [],
   "source": [
    "import pandas as pd\n",
    "import matplotlib.pyplot as plt\n",
    "import matplotlib as mpl\n",
    "import numpy as np\n",
    "from imblearn.over_sampling import SMOTE"
   ]
  },
  {
   "cell_type": "code",
   "execution_count": 2,
   "id": "417d04f2-5d77-4187-9375-89de602d81d9",
   "metadata": {},
   "outputs": [
    {
     "data": {
      "text/html": [
       "<div>\n",
       "<style scoped>\n",
       "    .dataframe tbody tr th:only-of-type {\n",
       "        vertical-align: middle;\n",
       "    }\n",
       "\n",
       "    .dataframe tbody tr th {\n",
       "        vertical-align: top;\n",
       "    }\n",
       "\n",
       "    .dataframe thead th {\n",
       "        text-align: right;\n",
       "    }\n",
       "</style>\n",
       "<table border=\"1\" class=\"dataframe\">\n",
       "  <thead>\n",
       "    <tr style=\"text-align: right;\">\n",
       "      <th></th>\n",
       "      <th>Unnamed: 0</th>\n",
       "      <th>cuisine</th>\n",
       "      <th>almond</th>\n",
       "      <th>angelica</th>\n",
       "      <th>anise</th>\n",
       "      <th>anise_seed</th>\n",
       "      <th>apple</th>\n",
       "      <th>apple_brandy</th>\n",
       "      <th>apricot</th>\n",
       "      <th>armagnac</th>\n",
       "      <th>...</th>\n",
       "      <th>whiskey</th>\n",
       "      <th>white_bread</th>\n",
       "      <th>white_wine</th>\n",
       "      <th>whole_grain_wheat_flour</th>\n",
       "      <th>wine</th>\n",
       "      <th>wood</th>\n",
       "      <th>yam</th>\n",
       "      <th>yeast</th>\n",
       "      <th>yogurt</th>\n",
       "      <th>zucchini</th>\n",
       "    </tr>\n",
       "  </thead>\n",
       "  <tbody>\n",
       "    <tr>\n",
       "      <th>0</th>\n",
       "      <td>65</td>\n",
       "      <td>indian</td>\n",
       "      <td>0</td>\n",
       "      <td>0</td>\n",
       "      <td>0</td>\n",
       "      <td>0</td>\n",
       "      <td>0</td>\n",
       "      <td>0</td>\n",
       "      <td>0</td>\n",
       "      <td>0</td>\n",
       "      <td>...</td>\n",
       "      <td>0</td>\n",
       "      <td>0</td>\n",
       "      <td>0</td>\n",
       "      <td>0</td>\n",
       "      <td>0</td>\n",
       "      <td>0</td>\n",
       "      <td>0</td>\n",
       "      <td>0</td>\n",
       "      <td>0</td>\n",
       "      <td>0</td>\n",
       "    </tr>\n",
       "    <tr>\n",
       "      <th>1</th>\n",
       "      <td>66</td>\n",
       "      <td>indian</td>\n",
       "      <td>1</td>\n",
       "      <td>0</td>\n",
       "      <td>0</td>\n",
       "      <td>0</td>\n",
       "      <td>0</td>\n",
       "      <td>0</td>\n",
       "      <td>0</td>\n",
       "      <td>0</td>\n",
       "      <td>...</td>\n",
       "      <td>0</td>\n",
       "      <td>0</td>\n",
       "      <td>0</td>\n",
       "      <td>0</td>\n",
       "      <td>0</td>\n",
       "      <td>0</td>\n",
       "      <td>0</td>\n",
       "      <td>0</td>\n",
       "      <td>0</td>\n",
       "      <td>0</td>\n",
       "    </tr>\n",
       "    <tr>\n",
       "      <th>2</th>\n",
       "      <td>67</td>\n",
       "      <td>indian</td>\n",
       "      <td>0</td>\n",
       "      <td>0</td>\n",
       "      <td>0</td>\n",
       "      <td>0</td>\n",
       "      <td>0</td>\n",
       "      <td>0</td>\n",
       "      <td>0</td>\n",
       "      <td>0</td>\n",
       "      <td>...</td>\n",
       "      <td>0</td>\n",
       "      <td>0</td>\n",
       "      <td>0</td>\n",
       "      <td>0</td>\n",
       "      <td>0</td>\n",
       "      <td>0</td>\n",
       "      <td>0</td>\n",
       "      <td>0</td>\n",
       "      <td>0</td>\n",
       "      <td>0</td>\n",
       "    </tr>\n",
       "    <tr>\n",
       "      <th>3</th>\n",
       "      <td>68</td>\n",
       "      <td>indian</td>\n",
       "      <td>0</td>\n",
       "      <td>0</td>\n",
       "      <td>0</td>\n",
       "      <td>0</td>\n",
       "      <td>0</td>\n",
       "      <td>0</td>\n",
       "      <td>0</td>\n",
       "      <td>0</td>\n",
       "      <td>...</td>\n",
       "      <td>0</td>\n",
       "      <td>0</td>\n",
       "      <td>0</td>\n",
       "      <td>0</td>\n",
       "      <td>0</td>\n",
       "      <td>0</td>\n",
       "      <td>0</td>\n",
       "      <td>0</td>\n",
       "      <td>0</td>\n",
       "      <td>0</td>\n",
       "    </tr>\n",
       "    <tr>\n",
       "      <th>4</th>\n",
       "      <td>69</td>\n",
       "      <td>indian</td>\n",
       "      <td>0</td>\n",
       "      <td>0</td>\n",
       "      <td>0</td>\n",
       "      <td>0</td>\n",
       "      <td>0</td>\n",
       "      <td>0</td>\n",
       "      <td>0</td>\n",
       "      <td>0</td>\n",
       "      <td>...</td>\n",
       "      <td>0</td>\n",
       "      <td>0</td>\n",
       "      <td>0</td>\n",
       "      <td>0</td>\n",
       "      <td>0</td>\n",
       "      <td>0</td>\n",
       "      <td>0</td>\n",
       "      <td>0</td>\n",
       "      <td>1</td>\n",
       "      <td>0</td>\n",
       "    </tr>\n",
       "    <tr>\n",
       "      <th>...</th>\n",
       "      <td>...</td>\n",
       "      <td>...</td>\n",
       "      <td>...</td>\n",
       "      <td>...</td>\n",
       "      <td>...</td>\n",
       "      <td>...</td>\n",
       "      <td>...</td>\n",
       "      <td>...</td>\n",
       "      <td>...</td>\n",
       "      <td>...</td>\n",
       "      <td>...</td>\n",
       "      <td>...</td>\n",
       "      <td>...</td>\n",
       "      <td>...</td>\n",
       "      <td>...</td>\n",
       "      <td>...</td>\n",
       "      <td>...</td>\n",
       "      <td>...</td>\n",
       "      <td>...</td>\n",
       "      <td>...</td>\n",
       "      <td>...</td>\n",
       "    </tr>\n",
       "    <tr>\n",
       "      <th>2443</th>\n",
       "      <td>57686</td>\n",
       "      <td>japanese</td>\n",
       "      <td>0</td>\n",
       "      <td>0</td>\n",
       "      <td>0</td>\n",
       "      <td>0</td>\n",
       "      <td>0</td>\n",
       "      <td>0</td>\n",
       "      <td>0</td>\n",
       "      <td>0</td>\n",
       "      <td>...</td>\n",
       "      <td>0</td>\n",
       "      <td>0</td>\n",
       "      <td>0</td>\n",
       "      <td>0</td>\n",
       "      <td>0</td>\n",
       "      <td>0</td>\n",
       "      <td>0</td>\n",
       "      <td>0</td>\n",
       "      <td>0</td>\n",
       "      <td>0</td>\n",
       "    </tr>\n",
       "    <tr>\n",
       "      <th>2444</th>\n",
       "      <td>57687</td>\n",
       "      <td>japanese</td>\n",
       "      <td>0</td>\n",
       "      <td>0</td>\n",
       "      <td>0</td>\n",
       "      <td>0</td>\n",
       "      <td>0</td>\n",
       "      <td>0</td>\n",
       "      <td>0</td>\n",
       "      <td>0</td>\n",
       "      <td>...</td>\n",
       "      <td>0</td>\n",
       "      <td>0</td>\n",
       "      <td>0</td>\n",
       "      <td>0</td>\n",
       "      <td>0</td>\n",
       "      <td>0</td>\n",
       "      <td>0</td>\n",
       "      <td>0</td>\n",
       "      <td>0</td>\n",
       "      <td>0</td>\n",
       "    </tr>\n",
       "    <tr>\n",
       "      <th>2445</th>\n",
       "      <td>57688</td>\n",
       "      <td>japanese</td>\n",
       "      <td>0</td>\n",
       "      <td>0</td>\n",
       "      <td>0</td>\n",
       "      <td>0</td>\n",
       "      <td>0</td>\n",
       "      <td>0</td>\n",
       "      <td>0</td>\n",
       "      <td>0</td>\n",
       "      <td>...</td>\n",
       "      <td>0</td>\n",
       "      <td>0</td>\n",
       "      <td>0</td>\n",
       "      <td>0</td>\n",
       "      <td>0</td>\n",
       "      <td>0</td>\n",
       "      <td>0</td>\n",
       "      <td>0</td>\n",
       "      <td>0</td>\n",
       "      <td>0</td>\n",
       "    </tr>\n",
       "    <tr>\n",
       "      <th>2446</th>\n",
       "      <td>57689</td>\n",
       "      <td>japanese</td>\n",
       "      <td>0</td>\n",
       "      <td>0</td>\n",
       "      <td>0</td>\n",
       "      <td>0</td>\n",
       "      <td>0</td>\n",
       "      <td>0</td>\n",
       "      <td>0</td>\n",
       "      <td>0</td>\n",
       "      <td>...</td>\n",
       "      <td>0</td>\n",
       "      <td>0</td>\n",
       "      <td>0</td>\n",
       "      <td>0</td>\n",
       "      <td>0</td>\n",
       "      <td>0</td>\n",
       "      <td>0</td>\n",
       "      <td>0</td>\n",
       "      <td>0</td>\n",
       "      <td>0</td>\n",
       "    </tr>\n",
       "    <tr>\n",
       "      <th>2447</th>\n",
       "      <td>57690</td>\n",
       "      <td>japanese</td>\n",
       "      <td>0</td>\n",
       "      <td>0</td>\n",
       "      <td>0</td>\n",
       "      <td>0</td>\n",
       "      <td>0</td>\n",
       "      <td>0</td>\n",
       "      <td>0</td>\n",
       "      <td>0</td>\n",
       "      <td>...</td>\n",
       "      <td>0</td>\n",
       "      <td>0</td>\n",
       "      <td>0</td>\n",
       "      <td>0</td>\n",
       "      <td>0</td>\n",
       "      <td>0</td>\n",
       "      <td>0</td>\n",
       "      <td>0</td>\n",
       "      <td>0</td>\n",
       "      <td>0</td>\n",
       "    </tr>\n",
       "  </tbody>\n",
       "</table>\n",
       "<p>2448 rows × 385 columns</p>\n",
       "</div>"
      ],
      "text/plain": [
       "      Unnamed: 0   cuisine  almond  angelica  anise  anise_seed  apple  \\\n",
       "0             65    indian       0         0      0           0      0   \n",
       "1             66    indian       1         0      0           0      0   \n",
       "2             67    indian       0         0      0           0      0   \n",
       "3             68    indian       0         0      0           0      0   \n",
       "4             69    indian       0         0      0           0      0   \n",
       "...          ...       ...     ...       ...    ...         ...    ...   \n",
       "2443       57686  japanese       0         0      0           0      0   \n",
       "2444       57687  japanese       0         0      0           0      0   \n",
       "2445       57688  japanese       0         0      0           0      0   \n",
       "2446       57689  japanese       0         0      0           0      0   \n",
       "2447       57690  japanese       0         0      0           0      0   \n",
       "\n",
       "      apple_brandy  apricot  armagnac  ...  whiskey  white_bread  white_wine  \\\n",
       "0                0        0         0  ...        0            0           0   \n",
       "1                0        0         0  ...        0            0           0   \n",
       "2                0        0         0  ...        0            0           0   \n",
       "3                0        0         0  ...        0            0           0   \n",
       "4                0        0         0  ...        0            0           0   \n",
       "...            ...      ...       ...  ...      ...          ...         ...   \n",
       "2443             0        0         0  ...        0            0           0   \n",
       "2444             0        0         0  ...        0            0           0   \n",
       "2445             0        0         0  ...        0            0           0   \n",
       "2446             0        0         0  ...        0            0           0   \n",
       "2447             0        0         0  ...        0            0           0   \n",
       "\n",
       "      whole_grain_wheat_flour  wine  wood  yam  yeast  yogurt  zucchini  \n",
       "0                           0     0     0    0      0       0         0  \n",
       "1                           0     0     0    0      0       0         0  \n",
       "2                           0     0     0    0      0       0         0  \n",
       "3                           0     0     0    0      0       0         0  \n",
       "4                           0     0     0    0      0       1         0  \n",
       "...                       ...   ...   ...  ...    ...     ...       ...  \n",
       "2443                        0     0     0    0      0       0         0  \n",
       "2444                        0     0     0    0      0       0         0  \n",
       "2445                        0     0     0    0      0       0         0  \n",
       "2446                        0     0     0    0      0       0         0  \n",
       "2447                        0     0     0    0      0       0         0  \n",
       "\n",
       "[2448 rows x 385 columns]"
      ]
     },
     "execution_count": 2,
     "metadata": {},
     "output_type": "execute_result"
    }
   ],
   "source": [
    "df = pd.read_csv('data/cuisines.csv')\n",
    "df"
   ]
  },
  {
   "cell_type": "code",
   "execution_count": 3,
   "id": "018144c8-d2cf-42c9-8953-f491c5a20d0b",
   "metadata": {},
   "outputs": [
    {
     "data": {
      "text/plain": [
       "<AxesSubplot:>"
      ]
     },
     "execution_count": 3,
     "metadata": {},
     "output_type": "execute_result"
    },
    {
     "data": {
      "image/png": "[encoded data removed]",
      "text/plain": [
       "<Figure size 432x288 with 1 Axes>"
      ]
     },
     "metadata": {
      "needs_background": "light"
     },
     "output_type": "display_data"
    }
   ],
   "source": [
    "df.cuisine.value_counts().plot.barh()"
   ]
  },
  {
   "cell_type": "code",
   "execution_count": 4,
   "id": "8a1e69c0-af7a-44a4-9244-54b532deaa3d",
   "metadata": {},
   "outputs": [
    {
     "name": "stdout",
     "output_type": "stream",
     "text": [
      "thai df: (289, 385)\n",
      "japanese df: (320, 385)\n",
      "chinese df: (442, 385)\n",
      "indian df: (598, 385)\n",
      "korean df: (799, 385)\n"
     ]
    }
   ],
   "source": [
    "thai_df = df[(df.cuisine == \"thai\")]\n",
    "japanese_df = df[(df.cuisine == \"japanese\")]\n",
    "chinese_df = df[(df.cuisine == \"chinese\")]\n",
    "indian_df = df[(df.cuisine == \"indian\")]\n",
    "korean_df = df[(df.cuisine == \"korean\")]\n",
    "\n",
    "print(f'thai df: {thai_df.shape}')\n",
    "print(f'japanese df: {japanese_df.shape}')\n",
    "print(f'chinese df: {chinese_df.shape}')\n",
    "print(f'indian df: {indian_df.shape}')\n",
    "print(f'korean df: {korean_df.shape}')"
   ]
  },
  {
   "cell_type": "code",
   "execution_count": 5,
   "id": "2c7c1211-0d8f-40ec-aa69-3f835ca710eb",
   "metadata": {},
   "outputs": [],
   "source": [
    "def create_ingredient_df(df):\n",
    "    ingredient_df = df.T.drop(['cuisine','Unnamed: 0'])\n",
    "    ingredient_df.insert(0, 'value', ingredient_df.sum(axis=1), allow_duplicates=False)\n",
    "    return ingredient_df.sort_values(by = 'value', axis=0, ascending = False)['value']\n",
    "    "
   ]
  },
  {
   "cell_type": "code",
   "execution_count": 6,
   "id": "0a21c7f6-0c16-4a31-8032-3bc80e98b85d",
   "metadata": {},
   "outputs": [
    {
     "data": {
      "text/plain": [
       "<AxesSubplot:>"
      ]
     },
     "execution_count": 6,
     "metadata": {},
     "output_type": "execute_result"
    },
    {
     "data": {
      "image/png": "[encoded data removed]",
      "text/plain": [
       "<Figure size 432x288 with 1 Axes>"
      ]
     },
     "metadata": {
      "needs_background": "light"
     },
     "output_type": "display_data"
    }
   ],
   "source": [
    "thai_ingredient_df = create_ingredient_df(thai_df)\n",
    "thai_ingredient_df.head(10).plot.barh()"
   ]
  },
  {
   "cell_type": "code",
   "execution_count": 7,
   "id": "104b4240-17b3-4858-9116-103d7efe254e",
   "metadata": {},
   "outputs": [
    {
     "data": {
      "text/plain": [
       "<AxesSubplot:>"
      ]
     },
     "execution_count": 7,
     "metadata": {},
     "output_type": "execute_result"
    },
    {
     "data": {
      "image/png": "[encoded data removed]",
      "text/plain": [
       "<Figure size 432x288 with 1 Axes>"
      ]
     },
     "metadata": {
      "needs_background": "light"
     },
     "output_type": "display_data"
    }
   ],
   "source": [
    "japanese_ingredient_df = create_ingredient_df(japanese_df)\n",
    "japanese_ingredient_df.head(10).plot.barh()"
   ]
  },
  {
   "cell_type": "code",
   "execution_count": 8,
   "id": "1ae6b1d6-d89b-420c-957f-cb6e5ee3c868",
   "metadata": {},
   "outputs": [
    {
     "data": {
      "text/plain": [
       "<AxesSubplot:>"
      ]
     },
     "execution_count": 8,
     "metadata": {},
     "output_type": "execute_result"
    },
    {
     "data": {
      "image/png": "[encoded data removed]",
      "text/plain": [
       "<Figure size 432x288 with 1 Axes>"
      ]
     },
     "metadata": {
      "needs_background": "light"
     },
     "output_type": "display_data"
    }
   ],
   "source": [
    "chinese_ingredient_df = create_ingredient_df(chinese_df)\n",
    "chinese_ingredient_df.head(10).plot.barh()"
   ]
  },
  {
   "cell_type": "code",
   "execution_count": 9,
   "id": "20d85282-42ee-4a26-9d04-9aae43c285fe",
   "metadata": {},
   "outputs": [
    {
     "data": {
      "text/plain": [
       "<AxesSubplot:>"
      ]
     },
     "execution_count": 9,
     "metadata": {},
     "output_type": "execute_result"
    },
    {
     "data": {
      "image/png": "[encoded data removed]",
      "text/plain": [
       "<Figure size 432x288 with 1 Axes>"
      ]
     },
     "metadata": {
      "needs_background": "light"
     },
     "output_type": "display_data"
    }
   ],
   "source": [
    "indian_ingredient_df = create_ingredient_df(indian_df)\n",
    "indian_ingredient_df.head(10).plot.barh()"
   ]
  },
  {
   "cell_type": "code",
   "execution_count": 10,
   "id": "2407f159-f6d4-4579-8ccf-5a2814aca33c",
   "metadata": {},
   "outputs": [
    {
     "data": {
      "text/plain": [
       "<AxesSubplot:>"
      ]
     },
     "execution_count": 10,
     "metadata": {},
     "output_type": "execute_result"
    },
    {
     "data": {
      "image/png": "[encoded data removed]",
      "text/plain": [
       "<Figure size 432x288 with 1 Axes>"
      ]
     },
     "metadata": {
      "needs_background": "light"
     },
     "output_type": "display_data"
    }
   ],
   "source": [
    "korean_ingredient_df = create_ingredient_df(korean_df)\n",
    "korean_ingredient_df.head(10).plot.barh()"
   ]
  },
  {
   "cell_type": "code",
   "execution_count": 11,
   "id": "5eb2d33e-1eab-490d-935c-2f8536e74012",
   "metadata": {},
   "outputs": [
    {
     "name": "stdout",
     "output_type": "stream",
     "text": [
      "0         indian\n",
      "1         indian\n",
      "2         indian\n",
      "3         indian\n",
      "4         indian\n",
      "          ...   \n",
      "2443    japanese\n",
      "2444    japanese\n",
      "2445    japanese\n",
      "2446    japanese\n",
      "2447    japanese\n",
      "Name: cuisine, Length: 2448, dtype: object\n"
     ]
    }
   ],
   "source": [
    "feature_df = df.drop(['cuisine','Unnamed: 0','rice','garlic','ginger'], axis=1)\n",
    "labels_df = df.cuisine # .unique()\n",
    "print(labels_df)"
   ]
  },
  {
   "cell_type": "code",
   "execution_count": 12,
   "id": "60694660-3002-4964-8eb4-6460691b86f7",
   "metadata": {},
   "outputs": [
    {
     "name": "stdout",
     "output_type": "stream",
     "text": [
      "new label count: thai        799\n",
      "japanese    799\n",
      "chinese     799\n",
      "indian      799\n",
      "korean      799\n",
      "Name: cuisine, dtype: int64\n",
      "old label count: korean      799\n",
      "indian      598\n",
      "chinese     442\n",
      "japanese    320\n",
      "thai        289\n",
      "Name: cuisine, dtype: int64\n"
     ]
    }
   ],
   "source": [
    "oversample = SMOTE()\n",
    "transformed_feature_df, transformed_label_df = oversample.fit_resample(feature_df, labels_df)\n",
    "print(f'new label count: {transformed_label_df.value_counts()}')\n",
    "print(f'old label count: {df.cuisine.value_counts()}')"
   ]
  },
  {
   "cell_type": "code",
   "execution_count": 13,
   "id": "1848e9ab-7a94-43d3-b1be-2dd75a7d24c3",
   "metadata": {},
   "outputs": [],
   "source": [
    "transformed_df = pd.concat([transformed_label_df,transformed_feature_df],axis=1, join='outer')\n",
    "transformed_df.to_csv(\"data/cleaned_cuisines.csv\")\n",
    "cuisines_df = pd.read_csv(\"data/cleaned_cuisines.csv\")\n",
    "cuisines_feature_df = cuisines_df.drop(['Unnamed: 0', 'cuisine'], axis=1)\n",
    "cuisines_label_df = cuisines_df['cuisine']"
   ]
  },
  {
   "cell_type": "code",
   "execution_count": 14,
   "id": "e9a1a877-661f-4f76-a370-cc3ffbdb9247",
   "metadata": {},
   "outputs": [],
   "source": [
    "from sklearn.linear_model import LogisticRegression\n",
    "from sklearn.model_selection import train_test_split, cross_val_score\n",
    "from sklearn.metrics import accuracy_score,precision_score,confusion_matrix,classification_report, precision_recall_curve"
   ]
  },
  {
   "cell_type": "code",
   "execution_count": 15,
   "id": "9a3afa76-6e50-41d6-91cf-e1152b4746e0",
   "metadata": {},
   "outputs": [
    {
     "name": "stdout",
     "output_type": "stream",
     "text": [
      "Accuracy is 0.7898248540450375\n"
     ]
    }
   ],
   "source": [
    "X_train, X_test, y_train, y_test = train_test_split(cuisines_feature_df, cuisines_label_df, test_size=0.3)\n",
    "lr = LogisticRegression(multi_class='ovr', solver='liblinear')\n",
    "model = lr.fit(X_train, y_train)\n",
    "accuracy = model.score(X_test, y_test)\n",
    "print(f'Accuracy is {accuracy}')"
   ]
  },
  {
   "cell_type": "code",
   "execution_count": 16,
   "id": "0e71753c-31e0-4f19-8b8e-7bf0b404b876",
   "metadata": {},
   "outputs": [
    {
     "name": "stdout",
     "output_type": "stream",
     "text": [
      "ingredients: ['black_bean' 'pepper' 'scallion' 'sesame_oil' 'soy_sauce' 'vegetable_oil']\n",
      "cuisine:chinese\n"
     ]
    }
   ],
   "source": [
    "print(f'ingredients: {X_test.iloc[60][X_test.iloc[60]!=0].keys().values}')\n",
    "print(f'cuisine:{y_test.iloc[60]}')"
   ]
  },
  {
   "cell_type": "code",
   "execution_count": 17,
   "id": "eeb5f68c-a8a8-4711-83f6-533e86dcb235",
   "metadata": {},
   "outputs": [
    {
     "name": "stdout",
     "output_type": "stream",
     "text": [
      "                 0\n",
      "chinese   0.874176\n",
      "japanese  0.062429\n",
      "korean    0.041655\n",
      "thai      0.020951\n",
      "indian    0.000790\n"
     ]
    }
   ],
   "source": [
    "test= X_test.iloc[60].values.reshape(1, -1)\n",
    "proba = model.predict_proba(test)\n",
    "classes = model.classes_\n",
    "resultdf = pd.DataFrame(data=proba, columns=classes)\n",
    "topPrediction = resultdf.T.sort_values(by=[0], ascending = [False])\n",
    "print(topPrediction)"
   ]
  },
  {
   "cell_type": "code",
   "execution_count": 18,
   "id": "cc8919c7-9350-432b-8345-ba6b0bb7877a",
   "metadata": {},
   "outputs": [
    {
     "name": "stdout",
     "output_type": "stream",
     "text": [
      "              precision    recall  f1-score   support\n",
      "\n",
      "     chinese       0.76      0.69      0.73       243\n",
      "      indian       0.86      0.89      0.88       221\n",
      "    japanese       0.72      0.74      0.73       227\n",
      "      korean       0.85      0.79      0.82       263\n",
      "        thai       0.76      0.84      0.79       245\n",
      "\n",
      "    accuracy                           0.79      1199\n",
      "   macro avg       0.79      0.79      0.79      1199\n",
      "weighted avg       0.79      0.79      0.79      1199\n",
      "\n"
     ]
    }
   ],
   "source": [
    "y_pred = model.predict(X_test)\n",
    "print(classification_report(y_test,y_pred))"
   ]
  },
  {
   "cell_type": "code",
   "execution_count": 19,
   "id": "f20f229e-7545-41bf-aad5-e9644c88baf3",
   "metadata": {},
   "outputs": [],
   "source": [
    "from sklearn.tree import DecisionTreeClassifier, export_graphviz"
   ]
  },
  {
   "cell_type": "code",
   "execution_count": 20,
   "id": "9c4d66c8-2a4e-4f33-b4ec-3f4b5e50481c",
   "metadata": {},
   "outputs": [
    {
     "name": "stdout",
     "output_type": "stream",
     "text": [
      "0.7264386989157632\n",
      "0.9699570815450643\n",
      "              precision    recall  f1-score   support\n",
      "\n",
      "     chinese       0.76      0.69      0.73       243\n",
      "      indian       0.86      0.89      0.88       221\n",
      "    japanese       0.72      0.74      0.73       227\n",
      "      korean       0.85      0.79      0.82       263\n",
      "        thai       0.76      0.84      0.79       245\n",
      "\n",
      "    accuracy                           0.79      1199\n",
      "   macro avg       0.79      0.79      0.79      1199\n",
      "weighted avg       0.79      0.79      0.79      1199\n",
      "\n"
     ]
    }
   ],
   "source": [
    "tree = DecisionTreeClassifier(random_state=1, criterion=\"gini\", max_depth=50)\n",
    "tree.fit(X_train, y_train)\n",
    "acu_test = tree.score(X_test, y_test)\n",
    "acu_train = tree.score(X_train, y_train)\n",
    "print(acu_test)\n",
    "print(acu_train)\n",
    "y_pred = model.predict(X_test)\n",
    "print(classification_report(y_test,y_pred))"
   ]
  },
  {
   "cell_type": "code",
   "execution_count": 43,
   "id": "4ae85a7f-7cbf-43a1-a075-cbb55114e383",
   "metadata": {},
   "outputs": [],
   "source": [
    "from sklearn.neighbors import KNeighborsClassifier\n",
    "from sklearn.ensemble import RandomForestClassifier, AdaBoostClassifier, GradientBoostingClassifier\n",
    "from sklearn.svm import SVC"
   ]
  },
  {
   "cell_type": "code",
   "execution_count": 45,
   "id": "02b68791-ca3c-45aa-a648-72bbb42baf7b",
   "metadata": {},
   "outputs": [
    {
     "name": "stdout",
     "output_type": "stream",
     "text": [
      "Accuracy (train) for Linear SVC: 76.9% \n",
      "              precision    recall  f1-score   support\n",
      "\n",
      "     chinese       0.68      0.71      0.69       243\n",
      "      indian       0.87      0.88      0.87       221\n",
      "    japanese       0.72      0.74      0.73       227\n",
      "      korean       0.85      0.74      0.79       263\n",
      "        thai       0.75      0.78      0.76       245\n",
      "\n",
      "    accuracy                           0.77      1199\n",
      "   macro avg       0.77      0.77      0.77      1199\n",
      "weighted avg       0.77      0.77      0.77      1199\n",
      "\n",
      "Accuracy (train) for KNN classifier: 69.3% \n",
      "              precision    recall  f1-score   support\n",
      "\n",
      "     chinese       0.61      0.72      0.66       243\n",
      "      indian       0.85      0.74      0.79       221\n",
      "    japanese       0.57      0.80      0.66       227\n",
      "      korean       0.95      0.56      0.71       263\n",
      "        thai       0.67      0.67      0.67       245\n",
      "\n",
      "    accuracy                           0.69      1199\n",
      "   macro avg       0.73      0.70      0.70      1199\n",
      "weighted avg       0.73      0.69      0.70      1199\n",
      "\n",
      "Accuracy (train) for SVC: 79.4% \n",
      "              precision    recall  f1-score   support\n",
      "\n",
      "     chinese       0.73      0.70      0.72       243\n",
      "      indian       0.87      0.90      0.88       221\n",
      "    japanese       0.75      0.75      0.75       227\n",
      "      korean       0.90      0.78      0.84       263\n",
      "        thai       0.74      0.84      0.78       245\n",
      "\n",
      "    accuracy                           0.79      1199\n",
      "   macro avg       0.80      0.80      0.79      1199\n",
      "weighted avg       0.80      0.79      0.79      1199\n",
      "\n",
      "Accuracy (train) for RF: 81.4% \n",
      "              precision    recall  f1-score   support\n",
      "\n",
      "     chinese       0.75      0.74      0.75       243\n",
      "      indian       0.90      0.89      0.89       221\n",
      "    japanese       0.77      0.78      0.77       227\n",
      "      korean       0.91      0.81      0.86       263\n",
      "        thai       0.76      0.85      0.80       245\n",
      "\n",
      "    accuracy                           0.81      1199\n",
      "   macro avg       0.82      0.81      0.81      1199\n",
      "weighted avg       0.82      0.81      0.81      1199\n",
      "\n",
      "Accuracy (train) for AdaBoost: 64.6% \n",
      "              precision    recall  f1-score   support\n",
      "\n",
      "     chinese       0.54      0.49      0.51       243\n",
      "      indian       0.85      0.79      0.82       221\n",
      "    japanese       0.56      0.61      0.58       227\n",
      "      korean       0.68      0.62      0.65       263\n",
      "        thai       0.63      0.74      0.68       245\n",
      "\n",
      "    accuracy                           0.65      1199\n",
      "   macro avg       0.65      0.65      0.65      1199\n",
      "weighted avg       0.65      0.65      0.65      1199\n",
      "\n",
      "Accuracy (train) for GBDT: 76.1% \n",
      "              precision    recall  f1-score   support\n",
      "\n",
      "     chinese       0.73      0.70      0.71       243\n",
      "      indian       0.86      0.83      0.85       221\n",
      "    japanese       0.61      0.77      0.68       227\n",
      "      korean       0.87      0.75      0.81       263\n",
      "        thai       0.78      0.76      0.77       245\n",
      "\n",
      "    accuracy                           0.76      1199\n",
      "   macro avg       0.77      0.76      0.76      1199\n",
      "weighted avg       0.77      0.76      0.76      1199\n",
      "\n"
     ]
    }
   ],
   "source": [
    "C = 10\n",
    "# Create different classifiers.\n",
    "classifiers = {\n",
    "    'Linear SVC': SVC(kernel='linear', C=C),\n",
    "    'KNN classifier': KNeighborsClassifier(C),\n",
    "    'SVC': SVC(),\n",
    "    'RF': RandomForestClassifier(n_estimators=100),\n",
    "    'AdaBoost': AdaBoostClassifier(n_estimators=100),\n",
    "    'GBDT': GradientBoostingClassifier(n_estimators=100, learning_rate=1.0, \n",
    "                                max_depth=1, random_state=0)\n",
    "}\n",
    "\n",
    "n_classifiers = len(classifiers)\n",
    "\n",
    "for (name, classifier) in classifiers.items():\n",
    "    classifier.fit(X_train, y_train)\n",
    "\n",
    "    y_pred = classifier.predict(X_test)\n",
    "    accuracy = accuracy_score(y_test, y_pred)\n",
    "    print(\"Accuracy (train) for %s: %0.1f%% \" % (name, accuracy * 100))\n",
    "    print(classification_report(y_test,y_pred))"
   ]
  },
  {
   "cell_type": "code",
   "execution_count": null,
   "id": "11da0ffd-b036-4df3-9d9b-fa6a08890fd0",
   "metadata": {},
   "outputs": [],
   "source": []
  }
 ],
 "metadata": {
  "kernelspec": {
   "display_name": "Python 3",
   "language": "python",
   "name": "python3"
  },
  "language_info": {
   "codemirror_mode": {
    "name": "ipython",
    "version": 3
   },
   "file_extension": ".py",
   "mimetype": "text/x-python",
   "name": "python",
   "nbconvert_exporter": "python",
   "pygments_lexer": "ipython3",
   "version": "3.7.9"
  }
 },
 "nbformat": 4,
 "nbformat_minor": 5
}
