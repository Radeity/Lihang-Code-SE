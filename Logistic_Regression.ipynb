{
 "cells": [
  {
   "cell_type": "code",
   "execution_count": 1,
   "id": "54d9c31d-6b31-4272-abfc-62a261163a01",
   "metadata": {},
   "outputs": [],
   "source": [
    "import numpy as np\n",
    "import matplotlib.pyplot as plt\n",
    "from sklearn.datasets import load_iris\n",
    "import math\n",
    "import pandas as pd\n",
    "from collections import Counter\n",
    "\n",
    "# 在console内直接生成图像\n",
    "%matplotlib inline "
   ]
  },
  {
   "cell_type": "code",
   "execution_count": 2,
   "id": "081845bc-59cc-4d10-a00e-e784aa0657ed",
   "metadata": {},
   "outputs": [],
   "source": [
    "data, target = load_iris(return_X_y=True, as_frame=True)\n",
    "column = np.array(data.columns)"
   ]
  },
  {
   "cell_type": "code",
   "execution_count": 3,
   "id": "e962d305-22c3-4481-9fa1-7aa3701efee3",
   "metadata": {},
   "outputs": [
    {
     "data": {
      "text/plain": [
       "<matplotlib.legend.Legend at 0x7f83b1fe0910>"
      ]
     },
     "execution_count": 3,
     "metadata": {},
     "output_type": "execute_result"
    },
    {
     "data": {
      "image/png": "[encoded data removed]",
      "text/plain": [
       "<Figure size 432x288 with 1 Axes>"
      ]
     },
     "metadata": {
      "needs_background": "light"
     },
     "output_type": "display_data"
    }
   ],
   "source": [
    "plt.scatter(data[:50][column[0]], data[:50][column[1]],label='0')\n",
    "plt.scatter(data[50:100][column[0]], data[50:100][column[1]],label='1')\n",
    "\n",
    "plt.legend()"
   ]
  },
  {
   "cell_type": "code",
   "execution_count": 4,
   "id": "e06ecbb6-599f-41ec-be88-50801d35c939",
   "metadata": {},
   "outputs": [],
   "source": [
    "data = data.values\n",
    "target = target[0:100]"
   ]
  },
  {
   "cell_type": "code",
   "execution_count": 5,
   "id": "18f20ab1-33f6-497e-ae17-e7732bdb775e",
   "metadata": {},
   "outputs": [],
   "source": [
    "# 逻辑斯谛回归模型\n",
    "class LR:\n",
    "    def __init__(self, max_iter=200, l_rate=0.01, conv = 0.002):\n",
    "        self.max_iter = max_iter  # 最大迭代次数\n",
    "        self.l_rate = l_rate  # 学习率\n",
    "        self.conv = conv  # 判断收敛的损失函数差值\n",
    "    \n",
    "    def sigmoid(self, x):  # sigmoid激活函数：g(x) = 1 / (1 + e^(-w·x))\n",
    "        return 1 / (1 + np.exp(- np.dot(self.w, x)))\n",
    "        \n",
    "    def sigmoid_matrix_res(self, x):  # 多组x计算sigmoid函数得到矩阵结果\n",
    "        res = np.zeros(x.shape[0])  # x:(m,n), w:(n,1), res:(m,1)\n",
    "        for i in range(x.shape[0]):\n",
    "            res[i] = self.sigmoid(x[i])\n",
    "        return res\n",
    "        \n",
    "    def fit(self, x, y):\n",
    "        dim  = x.shape[1]+1  \n",
    "        self.w = np.zeros(dim)  # w初始维度为{x_i}特征维度 + 1\n",
    "        b = np.ones(x.shape[0])\n",
    "        x = np.column_stack((x, b))  # x最后增加一列全 1，使得可以直接计算 z = w·x\n",
    "        iteration = 0\n",
    "        while iteration < self.max_iter:\n",
    "            old_loss = self.loss(x, y)  # 计算当前损失函数\n",
    "            #delta = y - self.sigmoid_matrix_res(x)  # 导数\n",
    "            #for j in range(dim):\n",
    "            #    self.w[j] = self.w[j] + self.l_rate * np.sum(delta * x[:, j])\n",
    "            for i in range(len(x)):\n",
    "                result = self.sigmoid(x[i])\n",
    "                error = y[i] - result\n",
    "                self.w += self.l_rate * error * np.transpose(x[i])  # 梯度上升\n",
    "                \n",
    "            new_loss = self.loss(x, y)  # 计算梯度上升后的损失函数\n",
    "            \n",
    "            if math.fabs(old_loss - new_loss) < self.conv:\n",
    "                print(\"收敛！\")\n",
    "                print(\"损失值为：\", old_loss)\n",
    "                break\n",
    "            print(\"当前第%d轮，损失值为%f\" % (iteration, new_loss))\n",
    "            iteration += 1\n",
    "            \n",
    "    def predict(self, x):\n",
    "        return self.sigmoid(x) > 0.5\n",
    "        \n",
    "    def loss(self, x, y):\n",
    "        L = 0  # 损失值\n",
    "        for i in range(len(x)):\n",
    "            temp = self.sigmoid(x[i])\n",
    "            L += y[i] * math.log(temp, 2) + (1 - y[i]) * math.log((1 - temp), 2)  # 交叉熵损失\n",
    "        return L\n",
    "            "
   ]
  },
  {
   "cell_type": "code",
   "execution_count": 6,
   "id": "37221b4b-a59d-4e4b-8972-f1349ef5c6b5",
   "metadata": {},
   "outputs": [
    {
     "ename": "NameError",
     "evalue": "name 'X' is not defined",
     "output_type": "error",
     "traceback": [
      "\u001b[0;31m---------------------------------------------------------------------------\u001b[0m",
      "\u001b[0;31mNameError\u001b[0m                                 Traceback (most recent call last)",
      "\u001b[0;32m<ipython-input-6-9065553f5510>\u001b[0m in \u001b[0;36m<module>\u001b[0;34m\u001b[0m\n\u001b[1;32m      1\u001b[0m \u001b[0mlr\u001b[0m \u001b[0;34m=\u001b[0m \u001b[0mLR\u001b[0m\u001b[0;34m(\u001b[0m\u001b[0;34m)\u001b[0m\u001b[0;34m\u001b[0m\u001b[0;34m\u001b[0m\u001b[0m\n\u001b[0;32m----> 2\u001b[0;31m \u001b[0mlr\u001b[0m\u001b[0;34m.\u001b[0m\u001b[0mfit\u001b[0m\u001b[0;34m(\u001b[0m\u001b[0mdata\u001b[0m\u001b[0;34m[\u001b[0m\u001b[0;36m0\u001b[0m\u001b[0;34m:\u001b[0m\u001b[0;36m100\u001b[0m\u001b[0;34m,\u001b[0m \u001b[0;36m0\u001b[0m\u001b[0;34m:\u001b[0m\u001b[0;36m2\u001b[0m\u001b[0;34m]\u001b[0m\u001b[0;34m,\u001b[0m \u001b[0mtarget\u001b[0m\u001b[0;34m[\u001b[0m\u001b[0;36m0\u001b[0m\u001b[0;34m:\u001b[0m\u001b[0;36m100\u001b[0m\u001b[0;34m]\u001b[0m\u001b[0;34m)\u001b[0m\u001b[0;34m\u001b[0m\u001b[0;34m\u001b[0m\u001b[0m\n\u001b[0m\u001b[1;32m      3\u001b[0m \u001b[0;31m# print(lr.w)\u001b[0m\u001b[0;34m\u001b[0m\u001b[0;34m\u001b[0m\u001b[0;34m\u001b[0m\u001b[0m\n\u001b[1;32m      4\u001b[0m \u001b[0;34m\u001b[0m\u001b[0m\n\u001b[1;32m      5\u001b[0m \u001b[0mx_points\u001b[0m \u001b[0;34m=\u001b[0m \u001b[0mnp\u001b[0m\u001b[0;34m.\u001b[0m\u001b[0mlinspace\u001b[0m\u001b[0;34m(\u001b[0m\u001b[0;36m4\u001b[0m\u001b[0;34m,\u001b[0m \u001b[0;36m7\u001b[0m\u001b[0;34m,\u001b[0m \u001b[0;36m50\u001b[0m\u001b[0;34m)\u001b[0m\u001b[0;34m\u001b[0m\u001b[0;34m\u001b[0m\u001b[0m\n",
      "\u001b[0;32m<ipython-input-5-6d403d377306>\u001b[0m in \u001b[0;36mfit\u001b[0;34m(self, x, y)\u001b[0m\n\u001b[1;32m     26\u001b[0m             \u001b[0;31m#for j in range(dim):\u001b[0m\u001b[0;34m\u001b[0m\u001b[0;34m\u001b[0m\u001b[0;34m\u001b[0m\u001b[0m\n\u001b[1;32m     27\u001b[0m             \u001b[0;31m#    self.w[j] = self.w[j] + self.l_rate * np.sum(delta * x[:, j])\u001b[0m\u001b[0;34m\u001b[0m\u001b[0;34m\u001b[0m\u001b[0;34m\u001b[0m\u001b[0m\n\u001b[0;32m---> 28\u001b[0;31m             \u001b[0;32mfor\u001b[0m \u001b[0mi\u001b[0m \u001b[0;32min\u001b[0m \u001b[0mrange\u001b[0m\u001b[0;34m(\u001b[0m\u001b[0mlen\u001b[0m\u001b[0;34m(\u001b[0m\u001b[0mX\u001b[0m\u001b[0;34m)\u001b[0m\u001b[0;34m)\u001b[0m\u001b[0;34m:\u001b[0m\u001b[0;34m\u001b[0m\u001b[0;34m\u001b[0m\u001b[0m\n\u001b[0m\u001b[1;32m     29\u001b[0m                 \u001b[0mresult\u001b[0m \u001b[0;34m=\u001b[0m \u001b[0mself\u001b[0m\u001b[0;34m.\u001b[0m\u001b[0msigmoid\u001b[0m\u001b[0;34m(\u001b[0m\u001b[0mx\u001b[0m\u001b[0;34m[\u001b[0m\u001b[0mi\u001b[0m\u001b[0;34m]\u001b[0m\u001b[0;34m)\u001b[0m\u001b[0;34m\u001b[0m\u001b[0;34m\u001b[0m\u001b[0m\n\u001b[1;32m     30\u001b[0m                 \u001b[0merror\u001b[0m \u001b[0;34m=\u001b[0m \u001b[0my\u001b[0m\u001b[0;34m[\u001b[0m\u001b[0mi\u001b[0m\u001b[0;34m]\u001b[0m \u001b[0;34m-\u001b[0m \u001b[0mresult\u001b[0m\u001b[0;34m\u001b[0m\u001b[0;34m\u001b[0m\u001b[0m\n",
      "\u001b[0;31mNameError\u001b[0m: name 'X' is not defined"
     ]
    }
   ],
   "source": [
    "lr = LR()\n",
    "lr.fit(data[0:100, 0:2], target[0:100])\n",
    "# print(lr.w)\n",
    "\n",
    "x_points = np.linspace(4, 7, 50)\n",
    "y_points = -(lr.w[0] * x_points + lr.w[-1]) / lr.w[1]\n",
    "\n",
    "plt.plot(x_points, y_points) \n",
    "plt.scatter(data[:50][:,0], data[:50][:,1],label='0')\n",
    "plt.scatter(data[50:100][:,0], data[50:100][:,1],label='1')\n",
    "\n",
    "plt.legend()"
   ]
  }
 ],
 "metadata": {
  "kernelspec": {
   "display_name": "Python 3",
   "language": "python",
   "name": "python3"
  },
  "language_info": {
   "codemirror_mode": {
    "name": "ipython",
    "version": 3
   },
   "file_extension": ".py",
   "mimetype": "text/x-python",
   "name": "python",
   "nbconvert_exporter": "python",
   "pygments_lexer": "ipython3",
   "version": "3.7.9"
  }
 },
 "nbformat": 4,
 "nbformat_minor": 5
}
