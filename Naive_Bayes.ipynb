{
 "cells": [
  {
   "cell_type": "markdown",
   "id": "ed4bcb41-f1dd-4878-a4e6-0e224f5131d2",
   "metadata": {},
   "source": [
    "### scikit-learn 实现——朴素贝叶斯分类器\n",
    "\n",
    "模型：\n",
    "\n",
    "- 高斯模型（特征连续分布）\n",
    "- 多项式模型\n",
    "- 伯努利模型"
   ]
  },
  {
   "cell_type": "code",
   "execution_count": 1,
   "id": "86b6d429-ad7e-464e-ad4d-e368cf6efcfa",
   "metadata": {},
   "outputs": [],
   "source": [
    "import matplotlib.pyplot as plt\n",
    "import numpy as np\n",
    "from sklearn.datasets import load_iris\n",
    "from sklearn.naive_bayes import GaussianNB"
   ]
  },
  {
   "cell_type": "code",
   "execution_count": 2,
   "id": "05821a4f-0a3b-4738-bee9-8b1e00beb372",
   "metadata": {},
   "outputs": [
    {
     "data": {
      "text/plain": [
       "<matplotlib.legend.Legend at 0x7f89e3723290>"
      ]
     },
     "execution_count": 2,
     "metadata": {},
     "output_type": "execute_result"
    },
    {
     "data": {
      "image/png": "[encoded data removed]",
      "text/plain": [
       "<Figure size 432x288 with 1 Axes>"
      ]
     },
     "metadata": {
      "needs_background": "light"
     },
     "output_type": "display_data"
    }
   ],
   "source": [
    "data, target = load_iris(return_X_y=True, as_frame=True)\n",
    "column = np.array(data.columns)\n",
    "\n",
    "plt.scatter(data[:50][column[2]], data[:50][column[3]], label = '0')\n",
    "plt.scatter(data[50:100][column[2]], data[50:100][column[3]], label = '1')\n",
    "plt.scatter(data[100:150][column[2]], data[100:150][column[3]], label = '2')\n",
    "plt.legend()"
   ]
  },
  {
   "cell_type": "code",
   "execution_count": 3,
   "id": "7050901d-3dcd-4d0a-8b88-c6d1069f573b",
   "metadata": {},
   "outputs": [
    {
     "data": {
      "text/plain": [
       "array([0])"
      ]
     },
     "execution_count": 3,
     "metadata": {},
     "output_type": "execute_result"
    }
   ],
   "source": [
    "data = data.values\n",
    "target = target.values\n",
    "clf = GaussianNB()\n",
    "clf.fit(data, target)\n",
    "clf.predict([[4.0,  3.5,  1.7,  0.2]])"
   ]
  }
 ],
 "metadata": {
  "kernelspec": {
   "display_name": "Python 3",
   "language": "python",
   "name": "python3"
  },
  "language_info": {
   "codemirror_mode": {
    "name": "ipython",
    "version": 3
   },
   "file_extension": ".py",
   "mimetype": "text/x-python",
   "name": "python",
   "nbconvert_exporter": "python",
   "pygments_lexer": "ipython3",
   "version": "3.7.9"
  }
 },
 "nbformat": 4,
 "nbformat_minor": 5
}
