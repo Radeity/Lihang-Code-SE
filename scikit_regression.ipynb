{
 "cells": [
  {
   "cell_type": "code",
   "execution_count": 1,
   "id": "f99ad36b-c49b-4d15-944b-a7d5c6afb118",
   "metadata": {},
   "outputs": [],
   "source": [
    "import matplotlib.pyplot as plt\n",
    "import numpy as np\n",
    "from sklearn import datasets, linear_model, model_selection"
   ]
  },
  {
   "cell_type": "code",
   "execution_count": 2,
   "id": "8deeca4f-10a9-4589-8bf4-46e1a7b44d9c",
   "metadata": {},
   "outputs": [
    {
     "name": "stdout",
     "output_type": "stream",
     "text": [
      "          age       sex       bmi        bp        s1        s2        s3  \\\n",
      "0    0.038076  0.050680  0.061696  0.021872 -0.044223 -0.034821 -0.043401   \n",
      "1   -0.001882 -0.044642 -0.051474 -0.026328 -0.008449 -0.019163  0.074412   \n",
      "2    0.085299  0.050680  0.044451 -0.005671 -0.045599 -0.034194 -0.032356   \n",
      "3   -0.089063 -0.044642 -0.011595 -0.036656  0.012191  0.024991 -0.036038   \n",
      "4    0.005383 -0.044642 -0.036385  0.021872  0.003935  0.015596  0.008142   \n",
      "..        ...       ...       ...       ...       ...       ...       ...   \n",
      "437  0.041708  0.050680  0.019662  0.059744 -0.005697 -0.002566 -0.028674   \n",
      "438 -0.005515  0.050680 -0.015906 -0.067642  0.049341  0.079165 -0.028674   \n",
      "439  0.041708  0.050680 -0.015906  0.017282 -0.037344 -0.013840 -0.024993   \n",
      "440 -0.045472 -0.044642  0.039062  0.001215  0.016318  0.015283 -0.028674   \n",
      "441 -0.045472 -0.044642 -0.073030 -0.081414  0.083740  0.027809  0.173816   \n",
      "\n",
      "           s4        s5        s6  \n",
      "0   -0.002592  0.019908 -0.017646  \n",
      "1   -0.039493 -0.068330 -0.092204  \n",
      "2   -0.002592  0.002864 -0.025930  \n",
      "3    0.034309  0.022692 -0.009362  \n",
      "4   -0.002592 -0.031991 -0.046641  \n",
      "..        ...       ...       ...  \n",
      "437 -0.002592  0.031193  0.007207  \n",
      "438  0.034309 -0.018118  0.044485  \n",
      "439 -0.011080 -0.046879  0.015491  \n",
      "440  0.026560  0.044528 -0.025930  \n",
      "441 -0.039493 -0.004220  0.003064  \n",
      "\n",
      "[442 rows x 10 columns]\n",
      "(442, 10)\n"
     ]
    }
   ],
   "source": [
    "data, target = datasets.load_diabetes(return_X_y=True, as_frame=True)\n",
    "column = np.array(data.columns)\n",
    "print(data)\n",
    "data = data.values\n",
    "print(data.shape)"
   ]
  },
  {
   "cell_type": "markdown",
   "id": "e2b109f9-b32f-440a-8a9c-061000018188",
   "metadata": {},
   "source": [
    "target为患糖尿病一年后的定量测量指标"
   ]
  },
  {
   "cell_type": "code",
   "execution_count": 3,
   "id": "d798238b-9f7b-491d-8d1d-8291a23275ae",
   "metadata": {},
   "outputs": [
    {
     "data": {
      "text/plain": [
       "(442, 1)"
      ]
     },
     "execution_count": 3,
     "metadata": {},
     "output_type": "execute_result"
    }
   ],
   "source": [
    "X = data[:, 2, np.newaxis]  # 筛选第二列为特征\n",
    "X.shape"
   ]
  },
  {
   "cell_type": "code",
   "execution_count": 4,
   "id": "34a9883a-6770-4827-b48f-65cf9db86ced",
   "metadata": {},
   "outputs": [],
   "source": [
    "X_train, X_test, y_train, y_test = model_selection.train_test_split(X, target, test_size = 0.3)"
   ]
  },
  {
   "cell_type": "code",
   "execution_count": 5,
   "id": "7169ddbf-1af2-4fc6-a7c8-9cff953a54ce",
   "metadata": {},
   "outputs": [],
   "source": [
    "model = linear_model.LinearRegression()\n",
    "model.fit(X_train, y_train)\n",
    "y_pred = model.predict(X_test)"
   ]
  },
  {
   "cell_type": "code",
   "execution_count": 6,
   "id": "f87b19b7-18e0-44fd-8701-fbf07067a56f",
   "metadata": {},
   "outputs": [
    {
     "data": {
      "image/png": "[encoded data removed]",
      "text/plain": [
       "<Figure size 432x288 with 1 Axes>"
      ]
     },
     "metadata": {
      "needs_background": "light"
     },
     "output_type": "display_data"
    }
   ],
   "source": [
    "plt.plot(X_test, y_pred, color='b')\n",
    "plt.scatter(X_test, y_test, color='r')\n",
    "plt.show()"
   ]
  },
  {
   "cell_type": "markdown",
   "id": "12f73bf3-bd9b-4c42-a64d-1bf3d8d39c0c",
   "metadata": {},
   "source": [
    "### Assignment 2-1"
   ]
  },
  {
   "cell_type": "code",
   "execution_count": 7,
   "id": "e3be024e-57b8-42f8-8372-61cf39045da4",
   "metadata": {},
   "outputs": [
    {
     "name": "stdout",
     "output_type": "stream",
     "text": [
      "    Chins  Situps  Jumps\n",
      "0     5.0   162.0   60.0\n",
      "1     2.0   110.0   60.0\n",
      "2    12.0   101.0  101.0\n",
      "3    12.0   105.0   37.0\n",
      "4    13.0   155.0   58.0\n",
      "5     4.0   101.0   42.0\n",
      "6     8.0   101.0   38.0\n",
      "7     6.0   125.0   40.0\n",
      "8    15.0   200.0   40.0\n",
      "9    17.0   251.0  250.0\n",
      "10   17.0   120.0   38.0\n",
      "11   13.0   210.0  115.0\n",
      "12   14.0   215.0  105.0\n",
      "13    1.0    50.0   50.0\n",
      "14    6.0    70.0   31.0\n",
      "15   12.0   210.0  120.0\n",
      "16    4.0    60.0   25.0\n",
      "17   11.0   230.0   80.0\n",
      "18   15.0   225.0   73.0\n",
      "19    2.0   110.0   43.0\n",
      "(20, 3)\n"
     ]
    }
   ],
   "source": [
    "data, target = datasets.load_linnerud(return_X_y=True, as_frame=True)\n",
    "column = np.array(data.columns)\n",
    "print(data)\n",
    "data = data.values\n",
    "print(data.shape)"
   ]
  },
  {
   "cell_type": "code",
   "execution_count": 8,
   "id": "083166bb-5167-4207-96c7-2c9874697098",
   "metadata": {},
   "outputs": [
    {
     "name": "stdout",
     "output_type": "stream",
     "text": [
      "(20, 3)\n",
      "    Weight  Waist  Pulse\n",
      "0    191.0   36.0   50.0\n",
      "1    189.0   37.0   52.0\n",
      "2    193.0   38.0   58.0\n",
      "3    162.0   35.0   62.0\n",
      "4    189.0   35.0   46.0\n",
      "5    182.0   36.0   56.0\n",
      "6    211.0   38.0   56.0\n",
      "7    167.0   34.0   60.0\n",
      "8    176.0   31.0   74.0\n",
      "9    154.0   33.0   56.0\n",
      "10   169.0   34.0   50.0\n",
      "11   166.0   33.0   52.0\n",
      "12   154.0   34.0   64.0\n",
      "13   247.0   46.0   50.0\n",
      "14   193.0   36.0   46.0\n",
      "15   202.0   37.0   62.0\n",
      "16   176.0   37.0   54.0\n",
      "17   157.0   32.0   52.0\n",
      "18   156.0   33.0   54.0\n",
      "19   138.0   33.0   68.0\n"
     ]
    }
   ],
   "source": [
    "print(target.shape)\n",
    "print(target)"
   ]
  },
  {
   "cell_type": "code",
   "execution_count": 9,
   "id": "7f3ff505-7779-49e0-9384-1457d55e05dd",
   "metadata": {},
   "outputs": [
    {
     "name": "stdout",
     "output_type": "stream",
     "text": [
      "系数矩阵:\n",
      " [[-0.47502636 -0.21771647  0.09308837]\n",
      " [-0.13687023 -0.04033662  0.0279736 ]\n",
      " [ 0.00107079  0.04202941 -0.02946117]]\n"
     ]
    }
   ],
   "source": [
    "print('系数矩阵:\\n',linear_model.LinearRegression().fit(data,target).coef_)"
   ]
  },
  {
   "cell_type": "markdown",
   "id": "b7b8a5ef-e0fc-4dfc-b023-323d48878aac",
   "metadata": {},
   "source": [
    "### 2.2 North American pumpkin prices 🎃"
   ]
  },
  {
   "cell_type": "code",
   "execution_count": 10,
   "id": "8f927078-e014-413e-ac6e-ce162caf993d",
   "metadata": {},
   "outputs": [],
   "source": [
    "import pandas as pd"
   ]
  },
  {
   "cell_type": "code",
   "execution_count": 11,
   "id": "a513d75f-27ef-4c74-8b6c-632436f42511",
   "metadata": {},
   "outputs": [
    {
     "data": {
      "text/plain": [
       "City Name             0\n",
       "Type               1712\n",
       "Package               0\n",
       "Variety               5\n",
       "Sub Variety        1461\n",
       "Grade              1757\n",
       "Date                  0\n",
       "Low Price             0\n",
       "High Price            0\n",
       "Mostly Low          103\n",
       "Mostly High         103\n",
       "Origin                3\n",
       "Origin District    1626\n",
       "Item Size           279\n",
       "Color               616\n",
       "Environment        1757\n",
       "Unit of Sale       1595\n",
       "Quality            1757\n",
       "Condition          1757\n",
       "Appearance         1757\n",
       "Storage            1757\n",
       "Crop               1757\n",
       "Repack                0\n",
       "Trans Mode         1757\n",
       "Unnamed: 24        1757\n",
       "Unnamed: 25        1654\n",
       "dtype: int64"
      ]
     },
     "execution_count": 11,
     "metadata": {},
     "output_type": "execute_result"
    }
   ],
   "source": [
    "pumpkins = pd.read_csv('US-pumpkins.csv')\n",
    "pumpkins.isnull().sum()"
   ]
  },
  {
   "cell_type": "code",
   "execution_count": 12,
   "id": "12940ceb-b381-451d-bb64-f00f9747bb65",
   "metadata": {},
   "outputs": [],
   "source": [
    "new_columes = ['Package', 'Month', 'Low Price', 'High Price', 'Date']\n",
    "pumpkins = pumpkins.drop([c for c in pumpkins.columns if c not in new_columes], axis=1)\n",
    "price = (pumpkins['Low Price'] + pumpkins['High Price'])/2\n",
    "type(price)\n",
    "pumpkins['Month'] = pd.DatetimeIndex(pumpkins['Date']).month  # 新增一列月份数据\n",
    "pumpkins['Price'] = price  # 新增均价数据"
   ]
  },
  {
   "cell_type": "code",
   "execution_count": 13,
   "id": "5e88e287-4817-4afa-8851-ac36d7a72c73",
   "metadata": {},
   "outputs": [],
   "source": [
    "pumpkins = pumpkins[pumpkins['Package'].str.contains('bushel', case=True, regex=True)]\n",
    "pumpkins.loc[pumpkins['Package'].str.contains('1 1/9'), 'Price'] = price/(1 + 1/9)\n",
    "pumpkins.loc[pumpkins['Package'].str.contains('1/2'), 'Price'] = price/(1/2)"
   ]
  },
  {
   "cell_type": "code",
   "execution_count": 14,
   "id": "99623637-3fd0-4b86-ac70-7c053631232b",
   "metadata": {},
   "outputs": [
    {
     "data": {
      "image/png": "[encoded data removed]",
      "text/plain": [
       "<Figure size 432x288 with 1 Axes>"
      ]
     },
     "metadata": {
      "needs_background": "light"
     },
     "output_type": "display_data"
    }
   ],
   "source": [
    "price = pumpkins.Price\n",
    "month = pumpkins.Month\n",
    "plt.scatter(price, month)\n",
    "plt.show()"
   ]
  },
  {
   "cell_type": "code",
   "execution_count": 15,
   "id": "ddb822a9-64a7-4ed0-849d-6b0d914e6f5e",
   "metadata": {},
   "outputs": [
    {
     "data": {
      "text/plain": [
       "Text(0, 0.5, 'Pumpkin Price')"
      ]
     },
     "execution_count": 15,
     "metadata": {},
     "output_type": "execute_result"
    },
    {
     "data": {
      "image/png": "[encoded data removed]",
      "text/plain": [
       "<Figure size 432x288 with 1 Axes>"
      ]
     },
     "metadata": {
      "needs_background": "light"
     },
     "output_type": "display_data"
    }
   ],
   "source": [
    "pumpkins.groupby(['Month'])['Price'].mean().plot(kind='bar')\n",
    "plt.ylabel(\"Pumpkin Price\")"
   ]
  },
  {
   "cell_type": "code",
   "execution_count": null,
   "id": "1ae54053-5701-484f-84ec-09f45f76b162",
   "metadata": {},
   "outputs": [],
   "source": []
  }
 ],
 "metadata": {
  "kernelspec": {
   "display_name": "Python 3",
   "language": "python",
   "name": "python3"
  },
  "language_info": {
   "codemirror_mode": {
    "name": "ipython",
    "version": 3
   },
   "file_extension": ".py",
   "mimetype": "text/x-python",
   "name": "python",
   "nbconvert_exporter": "python",
   "pygments_lexer": "ipython3",
   "version": "3.7.9"
  }
 },
 "nbformat": 4,
 "nbformat_minor": 5
}
